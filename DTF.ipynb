{
  "nbformat": 4,
  "nbformat_minor": 0,
  "metadata": {
    "colab": {
      "name": "DTF",
      "provenance": [],
      "collapsed_sections": []
    },
    "kernelspec": {
      "name": "python3",
      "display_name": "Python 3"
    },
    "language_info": {
      "name": "python"
    }
  },
  "cells": [
    {
      "cell_type": "code",
      "metadata": {
        "id": "47gvRyHervvh"
      },
      "source": [
        "import random\n",
        "import numpy as np"
      ],
      "execution_count": null,
      "outputs": []
    },
    {
      "cell_type": "code",
      "metadata": {
        "id": "oYz3NsLzE_H8"
      },
      "source": [
        "def ddft(signal, N, eps):\n",
        "    f_trans = []\n",
        "    for i in range(N):\n",
        "        temp = 0\n",
        "        for j in range(N):\n",
        "            temp += signal[j] * np.exp(-eps * j * i)\n",
        "        f_trans.append(temp/np.sqrt(N))\n",
        "    return np.array(f_trans)\n",
        "\n",
        "\n",
        "def idft(signal, N, eps):\n",
        "    f_trans = []\n",
        "    for i in range(N):\n",
        "        temp = 0\n",
        "        for j in range(N):\n",
        "            temp += signal[j] * np.exp(eps * j * i)\n",
        "        f_trans.append(temp/np.sqrt(N))\n",
        "    return np.array(f_trans)   "
      ],
      "execution_count": null,
      "outputs": []
    },
    {
      "cell_type": "code",
      "metadata": {
        "colab": {
          "base_uri": "https://localhost:8080/"
        },
        "id": "Y_2m_64jEbrI",
        "outputId": "d6064933-85e4-4960-989b-2d13542d8edf"
      },
      "source": [
        "N = 100\n",
        "init_signal = []\n",
        "for _ in range(N):\n",
        "    init_signal.append(random.random())\n",
        "h = 2 * np.pi / N\n",
        "eps = 1j * h\n",
        "\n",
        "\n",
        "direct_trans = ddft(init_signal, N, eps)\n",
        "inv_trans = idft(direct_trans, N, eps)\n",
        "\n",
        "print('init signal:')\n",
        "for i in range(5):\n",
        "    print(init_signal[i])\n",
        "print('\\n\\ninverse dft:')\n",
        "for i in range(5):\n",
        "    print(np.real(inv_trans[i]))\n",
        "print('\\nnorm:', np.linalg.norm(inv_trans - init_signal))"
      ],
      "execution_count": null,
      "outputs": [
        {
          "output_type": "stream",
          "name": "stdout",
          "text": [
            "init signal:\n",
            "0.7636969743215909\n",
            "0.8759708048452202\n",
            "0.36736718325314477\n",
            "0.9422993877171562\n",
            "0.08657493851929665\n",
            "\n",
            "\n",
            "inverse dft:\n",
            "0.7636969743215828\n",
            "0.875970804845217\n",
            "0.3673671832531442\n",
            "0.9422993877171477\n",
            "0.08657493851930059\n",
            "\n",
            "norm: 9.483516961646021e-14\n"
          ]
        }
      ]
    }
  ]
}